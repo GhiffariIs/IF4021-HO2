{
 "cells": [
  {
   "cell_type": "markdown",
   "id": "0c1e3f32",
   "metadata": {},
   "source": [
    "# Hands-On 2 - Sistem Teknologi Multimedia\n",
    "Muhammad Ghiffari Iskandar - 122140189"
   ]
  },
  {
   "cell_type": "markdown",
   "id": "7259492c",
   "metadata": {},
   "source": [
    "## Soal 1 - Eksperimen Edit Foto dengan Python\n",
    "1. Dengan foto anda sendiri, lakukanlah eksperimen berikut ini. Editlah sebuah foto yang terdapat wajah anda, namun kali ini tidak dengan photoshop, melainkan dengan python. Lakukan penyesuaian berikut ini.\n",
    "    - Lakukan resize untuk foto anda menjadi `1080` pada dimension terpanjangnya. Gunakan `cv2.resize` untuk melakukan resize.\n",
    "    - Buatlah frame berwarna ungu/magenta (RGB value: 255, 0, 255) sebesar 20 pixel + dua digit terakhir NIM anda pada setiap sisi foto anda. Frame tersebut akan mengelilingi foto setebal 20 pixel + dua digit terakhir NIM anda.\n",
    "    - Aturlah intensitas warna pada channel merah di bagian tengah (50 - 150), dan naikkan sebesar 3 poin\n",
    "    - Turunkanlah intensitas warna pada channel biru di atas (200- 250), dan turunkan sebesar 30poin\n",
    "    - Tampilkanlah histogram dari foto tersebut\n",
    "    - Jelaskan hasil eksperimen anda"
   ]
  },
  {
   "cell_type": "code",
   "execution_count": null,
   "id": "fabaa4b7",
   "metadata": {},
   "outputs": [],
   "source": [
    "import cv2\n",
    "import numpy as np\n",
    "import matplotlib.pyplot as plt\n",
    "\n",
    "# Read the image\n",
    "img = cv2.imread('data/foto1.jpg')\n",
    "# Convert BGR to RGB (cv2 reads in BGR format)\n",
    "img = cv2.cvtColor(img, cv2.COLOR_BGR2RGB)"
   ]
  },
  {
   "cell_type": "markdown",
   "id": "266009c5",
   "metadata": {},
   "source": [
    "## Soal 2 - Eksperimen Foto: Grayscale, Normalisasi, Pixel Art, dan Effect\n",
    "2. Dengan foto anda sendiri, lakukanlah eksperimen berikut ini\n",
    "    - Convert image dari RGB menjadi Grayscale\n",
    "    - Tampilkan histogram dari foto tersebut\n",
    "    - Lakukanlah normalisasi level intensitas warna pada foto tersebut. Aturlah agar intensitas warna terendah menjadi 0, dan intensitas warna tertinggi menjadi 255\n",
    "    - Tampilkan histogram dari hasil normalisasi\n",
    "    - Buatlah pixel-art dari foto tersebut. Caranya adalah dengan mengubah intensitas warna menjadi 0 atau 255. Jika intensitas warna < 128, maka ubah menjadi 0, dan jika intensitas warna >= 128, maka ubah menjadi 255. Tunjukkan hasilnya\n",
    "    - Anda dapat menambahkan kreasi lain selain dari pixel-art, misalnya menambahkan efek blur, menambahkan efek noise, atau menambahkan efek lain yang anda inginkan"
   ]
  },
  {
   "cell_type": "markdown",
   "id": "8bfe79fa",
   "metadata": {},
   "source": [
    "## Soal 3 - Eksperimen Foto: Brightness, Saturation, dan Contrast\n",
    "3. Dengan foto anda sendiri, lakukanlah eksperimen berikut ini\n",
    "    - Naikkan kecerahan (brightnes) pada foto tersebut. Anda tidak boleh menggunakan library `cv2` untuk menaikkan kecerahan. Anda hanya boleh menggunakan operasi matriks dengan numpy. Jelaskan langkah-langkah yang anda lakukan. Tampilkan histogram dari foto tersebut\n",
    "    - Turunkan saturasi warna pada foto tersebut. Anda tidak boleh menggunakan library `cv2` untuk menurunkan saturasi warna. Anda hanya boleh menggunakan operasi matriks dengan numpy. Jelaskan langkah-langkah yang anda lakukan. Tampilkan histogram dari foto tersebut\n",
    "    - Turunkan kontras pada foto tersebut. Anda tidak boleh menggunakan library `cv2` untuk menurunkan kontras. Anda hanya boleh menggunakan operasi matriks dengan numpy. Jelaskan langkah-langkah yang anda lakukan. Tampilkan histogram dari foto tersebut"
   ]
  }
 ],
 "metadata": {
  "kernelspec": {
   "display_name": "venv",
   "language": "python",
   "name": "python3"
  },
  "language_info": {
   "codemirror_mode": {
    "name": "ipython",
    "version": 3
   },
   "file_extension": ".py",
   "mimetype": "text/x-python",
   "name": "python",
   "nbconvert_exporter": "python",
   "pygments_lexer": "ipython3",
   "version": "3.10.11"
  }
 },
 "nbformat": 4,
 "nbformat_minor": 5
}
